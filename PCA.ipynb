{
  "nbformat": 4,
  "nbformat_minor": 0,
  "metadata": {
    "colab": {
      "name": "PCA.ipynb",
      "provenance": [],
      "collapsed_sections": [],
      "toc_visible": true
    },
    "kernelspec": {
      "display_name": "Python 3",
      "name": "python3"
    }
  },
  "cells": [
    {
      "cell_type": "code",
      "metadata": {
        "id": "MS-9o9pxgjiz",
        "colab_type": "code",
        "colab": {
          "base_uri": "https://localhost:8080/",
          "height": 34
        },
        "outputId": "998e9ed1-5714-4d04-fa3c-887d4409fbdc"
      },
      "source": [
        "#ASSIGNMENT BY Pintu Kumar Sah\n",
        "\n",
        "\n",
        "\n",
        "# import required packages\n",
        "import numpy as np\n",
        "import pandas as pd\n",
        "import matplotlib.pyplot as plt\n",
        "from sklearn.decomposition import PCA\n",
        "from sklearn.preprocessing import StandardScaler\n",
        " \n",
        "#load dataset\n",
        "d=pd.read_csv('PCA_practice_dataset.csv')\n",
        "d.head()\n",
        "X=d.to_numpy()\n",
        "X.shape"
      ],
      "execution_count": 3,
      "outputs": [
        {
          "output_type": "execute_result",
          "data": {
            "text/plain": [
              "(8041, 35)"
            ]
          },
          "metadata": {
            "tags": []
          },
          "execution_count": 3
        }
      ]
    },
    {
      "cell_type": "code",
      "metadata": {
        "id": "jabugVOTiQnT",
        "colab_type": "code",
        "colab": {}
      },
      "source": [
        "#Here we scale the data with mean =0 and std=1\n",
        "scaler=StandardScaler()\n",
        "X=scaler.fit_transform(X)"
      ],
      "execution_count": 4,
      "outputs": []
    },
    {
      "cell_type": "code",
      "metadata": {
        "id": "EWTUGFQwiyXY",
        "colab_type": "code",
        "colab": {
          "base_uri": "https://localhost:8080/",
          "height": 153
        },
        "outputId": "fae5257a-b6a3-44cc-b7e1-b7ac560f3627"
      },
      "source": [
        "#Apply pca\n",
        "pca=PCA()\n",
        "X=pca.fit_transform(X)\n",
        "#Commulative variance\n",
        "cumulitive_variance=np.cumsum(pca.explained_variance_ratio_)*100\n",
        "#thresholds\n",
        "thresholds=[i for i in range(90,97+1,1)]\n",
        "#components\n",
        "components=[np.argmax(cumulitive_variance>threshold)for threshold in thresholds]\n",
        "for component,threshold in zip(components,thresholds):\n",
        "  print(\"components required for{}% threshold are{}%\".format(threshold,component))"
      ],
      "execution_count": 5,
      "outputs": [
        {
          "output_type": "stream",
          "text": [
            "components required for90% threshold are2%\n",
            "components required for91% threshold are2%\n",
            "components required for92% threshold are3%\n",
            "components required for93% threshold are3%\n",
            "components required for94% threshold are4%\n",
            "components required for95% threshold are4%\n",
            "components required for96% threshold are5%\n",
            "components required for97% threshold are6%\n"
          ],
          "name": "stdout"
        }
      ]
    },
    {
      "cell_type": "code",
      "metadata": {
        "id": "V4JK6L5elBnN",
        "colab_type": "code",
        "colab": {
          "base_uri": "https://localhost:8080/",
          "height": 295
        },
        "outputId": "9a92d4f0-6241-44ef-cb8b-80341a1e343e"
      },
      "source": [
        "#plot the data\n",
        "plt.plot(components,range(90,97+1,1),'ro-',linewidth=2)\n",
        "plt.title('Scree plot')\n",
        "plt.xlabel('Principal Component')\n",
        "plt.ylabel('Threshold in %')\n",
        "plt.show()"
      ],
      "execution_count": 6,
      "outputs": [
        {
          "output_type": "display_data",
          "data": {
            "image/png": "[encoded data removed]",
            "text/plain": [
              "<Figure size 432x288 with 1 Axes>"
            ]
          },
          "metadata": {
            "tags": [],
            "needs_background": "light"
          }
        }
      ]
    },
    {
      "cell_type": "code",
      "metadata": {
        "id": "09W5ilPhl1wM",
        "colab_type": "code",
        "colab": {
          "base_uri": "https://localhost:8080/",
          "height": 561
        },
        "outputId": "b7482a3b-04e9-45ea-89dc-c39e56a4feda"
      },
      "source": [
        "# perform dimensinality\n",
        "X_orig=X\n",
        "for component,var in zip(components,thresholds):\n",
        "  pca=PCA(n_components=component)\n",
        "  X_transformed=pca.fit_transform(X_orig)\n",
        "  print('performing dimension reduction to retain {}% threshold '.format(var))\n",
        "  print('after dimension reduction,new shape of dataset is:',X_transformed.shape)\n",
        "  print('\\n')"
      ],
      "execution_count": 7,
      "outputs": [
        {
          "output_type": "stream",
          "text": [
            "performing dimension reduction to retain 90% threshold \n",
            "after dimension reduction,new shape of dataset is: (8041, 2)\n",
            "\n",
            "\n",
            "performing dimension reduction to retain 91% threshold \n",
            "after dimension reduction,new shape of dataset is: (8041, 2)\n",
            "\n",
            "\n",
            "performing dimension reduction to retain 92% threshold \n",
            "after dimension reduction,new shape of dataset is: (8041, 3)\n",
            "\n",
            "\n",
            "performing dimension reduction to retain 93% threshold \n",
            "after dimension reduction,new shape of dataset is: (8041, 3)\n",
            "\n",
            "\n",
            "performing dimension reduction to retain 94% threshold \n",
            "after dimension reduction,new shape of dataset is: (8041, 4)\n",
            "\n",
            "\n",
            "performing dimension reduction to retain 95% threshold \n",
            "after dimension reduction,new shape of dataset is: (8041, 4)\n",
            "\n",
            "\n",
            "performing dimension reduction to retain 96% threshold \n",
            "after dimension reduction,new shape of dataset is: (8041, 5)\n",
            "\n",
            "\n",
            "performing dimension reduction to retain 97% threshold \n",
            "after dimension reduction,new shape of dataset is: (8041, 6)\n",
            "\n",
            "\n"
          ],
          "name": "stdout"
        }
      ]
    }
  ]
}